{
 "cells": [
  {
   "cell_type": "code",
   "execution_count": 1,
   "metadata": {},
   "outputs": [],
   "source": [
    "import pandas as pd\n",
    "import os"
   ]
  },
  {
   "cell_type": "code",
   "execution_count": null,
   "metadata": {},
   "outputs": [],
   "source": [
    " file_path = r\"C:\\Users\\User\\Desktop\\FCAI\\Microsoft LSC EELU - Data Science Bootcamp\\power bi\\Pizza_sales.xlsx\"  \n",
    "data = pd.ExcelFile(file_path)"
   ]
  },
  {
   "cell_type": "code",
   "execution_count": 4,
   "metadata": {},
   "outputs": [],
   "source": [
    "sales_data = data.parse('Sales')\n",
    "pizza_info = data.parse('Pizza Data')"
   ]
  },
  {
   "cell_type": "code",
   "execution_count": 5,
   "metadata": {},
   "outputs": [],
   "source": [
    "merged_data = sales_data.merge(pizza_info, on='pizza_id', how='left')"
   ]
  },
  {
   "cell_type": "code",
   "execution_count": 6,
   "metadata": {},
   "outputs": [],
   "source": [
    "merged_data['order_date'] = pd.to_datetime(merged_data['order_date'])\n",
    "merged_data['month'] = merged_data['order_date'].dt.to_period('M')\n",
    "merged_data['weekday'] = merged_data['order_date'].dt.day_name()\n",
    "merged_data['total_sales'] = merged_data['quantity'] * merged_data['total_price']"
   ]
  },
  {
   "cell_type": "code",
   "execution_count": 7,
   "metadata": {},
   "outputs": [],
   "source": [
    "monthly_sales = merged_data.groupby('month')['total_sales'].sum().reset_index()\n",
    "monthly_sales.to_csv('monthly_sales.csv', index=False)\n"
   ]
  },
  {
   "cell_type": "code",
   "execution_count": 8,
   "metadata": {},
   "outputs": [],
   "source": [
    "pizza_popularity = merged_data.groupby('pizza_name')['quantity'].sum().sort_values(ascending=False).reset_index()\n",
    "pizza_popularity.to_csv('pizza_popularity.csv', index=False)"
   ]
  },
  {
   "cell_type": "code",
   "execution_count": 9,
   "metadata": {},
   "outputs": [],
   "source": [
    "daily_sales = merged_data.groupby('weekday')['total_sales'].sum().reindex(\n",
    "    [\"Monday\", \"Tuesday\", \"Wednesday\", \"Thursday\", \"Friday\", \"Saturday\", \"Sunday\"]\n",
    ").reset_index()\n",
    "daily_sales.to_csv('daily_sales.csv', index=False)\n"
   ]
  },
  {
   "cell_type": "code",
   "execution_count": 11,
   "metadata": {},
   "outputs": [],
   "source": [
    "\n",
    "\n",
    "def power_bi_dashboard_instructions():\n",
    "    instructions = \"\"\"\n",
    "    Steps to Create the Power BI Dashboard:\n",
    "    1. Open Power BI Desktop.\n",
    "    2. Click on 'Get Data' > 'Text/CSV' and load the following files:\n",
    "       - 'monthly_sales.csv': For Monthly Sales visualization.\n",
    "       - 'pizza_popularity.csv': For Pizza Popularity visualization.\n",
    "       - 'daily_sales.csv': For Daily Sales visualization.\n",
    "    3. Create visuals:\n",
    "       - Use a Line or Bar chart for Monthly Sales with 'month' on the X-axis and 'total_sales' on the Y-axis.\n",
    "       - Use a Bar chart for Pizza Popularity with 'pizza_name' on the X-axis and 'quantity' on the Y-axis.\n",
    "       - Use a Bar chart for Daily Sales with 'weekday' on the X-axis and 'total_sales' on the Y-axis.\n",
    "    4. Add slicers for interactivity (e.g., filter by date or pizza type).\n",
    "    5. Format the visuals for clarity and aesthetics (e.g., titles, labels, and colors).\n",
    "    6. Save and publish the dashboard to Power BI Service if needed.\n",
    "    \"\"\"\n",
    "    print(instructions)"
   ]
  },
  {
   "cell_type": "code",
   "execution_count": 12,
   "metadata": {},
   "outputs": [
    {
     "name": "stdout",
     "output_type": "stream",
     "text": [
      "Data exported successfully! Use the CSV files to build your Power BI dashboard.\n",
      "\n",
      "    Steps to Create the Power BI Dashboard:\n",
      "    1. Open Power BI Desktop.\n",
      "    2. Click on 'Get Data' > 'Text/CSV' and load the following files:\n",
      "       - 'monthly_sales.csv': For Monthly Sales visualization.\n",
      "       - 'pizza_popularity.csv': For Pizza Popularity visualization.\n",
      "       - 'daily_sales.csv': For Daily Sales visualization.\n",
      "    3. Create visuals:\n",
      "       - Use a Line or Bar chart for Monthly Sales with 'month' on the X-axis and 'total_sales' on the Y-axis.\n",
      "       - Use a Bar chart for Pizza Popularity with 'pizza_name' on the X-axis and 'quantity' on the Y-axis.\n",
      "       - Use a Bar chart for Daily Sales with 'weekday' on the X-axis and 'total_sales' on the Y-axis.\n",
      "    4. Add slicers for interactivity (e.g., filter by date or pizza type).\n",
      "    5. Format the visuals for clarity and aesthetics (e.g., titles, labels, and colors).\n",
      "    6. Save and publish the dashboard to Power BI Service if needed.\n",
      "    \n"
     ]
    }
   ],
   "source": [
    "print(\"Data exported successfully! Use the CSV files to build your Power BI dashboard.\")\n"
   ]
  }
 ],
 "metadata": {
  "kernelspec": {
   "display_name": "base",
   "language": "python",
   "name": "python3"
  },
  "language_info": {
   "codemirror_mode": {
    "name": "ipython",
    "version": 3
   },
   "file_extension": ".py",
   "mimetype": "text/x-python",
   "name": "python",
   "nbconvert_exporter": "python",
   "pygments_lexer": "ipython3",
   "version": "3.12.7"
  }
 },
 "nbformat": 4,
 "nbformat_minor": 2
}
